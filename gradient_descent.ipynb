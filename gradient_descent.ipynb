{
 "cells": [
  {
   "cell_type": "markdown",
   "metadata": {},
   "source": [
    "# Author\n",
    "David Dada  "
   ]
  },
  {
   "cell_type": "markdown",
   "metadata": {
    "id": "3FL1tuQEkq_H"
   },
   "source": [
    "## Gradient descent algorithm \n",
    "\\begin{equation}\n",
    "\\theta^{+} = \\theta^{-} + \\frac{\\alpha}{m} (y_{i} - h(x_{i}) )\\bar{x}\n",
    "\\end{equation}\n",
    "\n",
    "This minimizes the following cost function\n",
    "\n",
    "\\begin{equation}\n",
    "J(x, \\theta, y) = \\frac{1}{2m}\\sum_{i=1}^{m}(h(x_i) - y_i)^2\n",
    "\\end{equation}\n",
    "\n",
    "where\n",
    "\\begin{equation}\n",
    "h(x_i) = \\theta^T \\bar{x}\n",
    "\\end{equation}"
   ]
  },
  {
   "cell_type": "code",
   "execution_count": 1,
   "metadata": {
    "ExecuteTime": {
     "end_time": "2023-11-27T20:45:29.118973Z",
     "start_time": "2023-11-27T20:45:28.554266Z"
    }
   },
   "outputs": [],
   "source": [
    "# Imports\n",
    "import numpy as np\n",
    "import random\n",
    "import math\n",
    "from matplotlib import pyplot as plt\n",
    "np.set_printoptions(formatter={'float_kind':lambda x: \"%2.1f\" %x})"
   ]
  },
  {
   "cell_type": "code",
   "execution_count": 4,
   "metadata": {
    "id": "cOem1EjQkq_H",
    "ExecuteTime": {
     "end_time": "2023-11-27T20:45:48.869149Z",
     "start_time": "2023-11-27T20:45:48.866739Z"
    }
   },
   "outputs": [],
   "source": [
    "# Generate Data Samples\n",
    "true_slope = 15\n",
    "true_intercept = 2.4\n",
    "input_var = np.arange(0.0,100.0)\n",
    "output_var = true_slope * input_var + true_intercept + 300.0 * np.random.rand(len(input_var))"
   ]
  },
  {
   "cell_type": "code",
   "execution_count": 5,
   "metadata": {
    "colab": {
     "base_uri": "https://localhost:8080/",
     "height": 17
    },
    "executionInfo": {
     "elapsed": 147,
     "status": "ok",
     "timestamp": 1630902228487,
     "user": {
      "displayName": "Praguna Singh",
      "photoUrl": "https://lh3.googleusercontent.com/a-/AOh14GheDZgFohozb1D4tdpw7nC3gfdiGtrrgzrUZufzqA=s64",
      "userId": "14769753629771591406"
     },
     "user_tz": 240
    },
    "id": "SNvDqYEykq_H",
    "outputId": "c7f53823-73d9-473f-9e28-944f1f09a415",
    "scrolled": false,
    "ExecuteTime": {
     "end_time": "2023-11-27T20:45:51.682863Z",
     "start_time": "2023-11-27T20:45:51.527324Z"
    }
   },
   "outputs": [
    {
     "data": {
      "text/plain": "<Figure size 640x480 with 1 Axes>",
      "image/png": "[encoded data removed]"
     },
     "metadata": {},
     "output_type": "display_data"
    }
   ],
   "source": [
    "# Do not change the code in this cell\n",
    "plt.figure()\n",
    "plt.scatter(input_var, output_var)\n",
    "plt.xlabel('x')\n",
    "plt.ylabel('y')\n",
    "plt.show()"
   ]
  },
  {
   "cell_type": "code",
   "execution_count": 10,
   "metadata": {
    "id": "XgNhbpEmkq_I"
   },
   "outputs": [],
   "source": [
    "def compute_cost(ip, op, params):\n",
    "    \"\"\"\n",
    "    Cost function in linear regression where the cost is calculated\n",
    "    ip: input variables\n",
    "    op: output variables\n",
    "    params: corresponding parameters\n",
    "    Returns cost\n",
    "    \"\"\"\n",
    "    num_samples = len(ip)\n",
    "    cost_sum = 0.0\n",
    "    for x,y in zip(ip, op):\n",
    "        \"\"\"\"\n",
    "        1. Take 1 x and 1 y from input/output\n",
    "        2. dot product weight vector  w = [w0, w1] with x vector [x0, x1] where x0 = 1 always\n",
    "        3. w0x0 + w1x1, w0 + w1x1\n",
    "        \"\"\"\n",
    "        y_hat = np.dot(params, np.array([1.0, x]))\n",
    "        cost_sum += (y_hat - y) ** 2\n",
    "    \n",
    "    cost = cost_sum / (num_samples)\n",
    "    \n",
    "    return cost"
   ]
  },
  {
   "cell_type": "markdown",
   "metadata": {},
   "source": [
    "### Linear Regression using Batch Gradient Descent from scratch"
   ]
  },
  {
   "cell_type": "markdown",
   "metadata": {
    "id": "7Ao7aYu9kq_I"
   },
   "source": [
    "\n",
    "### Batch gradient descent\n",
    "Algorithm can be given as follows:\n",
    "\n",
    "```for j in 0 -> max_iteration: \n",
    "    for i in 0 -> m: \n",
    "        theta += (alpha / m) * (y[i] - h(x[i])) * x_bar\n",
    "```"
   ]
  },
  {
   "cell_type": "code",
   "execution_count": 11,
   "metadata": {
    "id": "f0z876gDkq_I"
   },
   "outputs": [],
   "source": [
    "def linear_regression_using_batch_gradient_descent(ip, op, params, alpha, max_iter):\n",
    "    \"\"\"\n",
    "    Compute the params for linear regression using batch gradient descent\n",
    "    ip: input variables\n",
    "    op: output variables\n",
    "    params: corresponding parameters\n",
    "    alpha: learning rate\n",
    "    max_iter: maximum number of iterations\n",
    "    Returns parameters, cost, params_store\n",
    "    \"\"\"\n",
    "    # initialize iteration, number of samples, cost and parameter array\n",
    "    iteration = 0\n",
    "    num_samples = len(ip)\n",
    "    cost = np.zeros(max_iter)\n",
    "    params_store = np.zeros([2, max_iter+1]) # 2d array of w for each iteration\n",
    "    params_store[:, 0] = params\n",
    "    \n",
    "    # Compute the cost and store the params for the corresponding cost\n",
    "    while iteration < max_iter:\n",
    "        cost[iteration] = compute_cost(ip, op, params_store[:, iteration])\n",
    "        w = params_store[:, iteration]\n",
    "        \n",
    "        print('--------------------------')\n",
    "        print(f'iteration: {iteration}')\n",
    "        print(f'cost: {cost[iteration]}')\n",
    "        \n",
    "        # Apply batch gradient descent\n",
    "        gradient = 0\n",
    "\n",
    "        for i in range(num_samples):\n",
    "            y = op[i]\n",
    "            x = np.array([1.0, ip[i]])\n",
    "            y_hat = np.dot(w, x)\n",
    "            gradient += (y_hat - y) * x\n",
    "        \n",
    "        # new gradient W_new = W_old - alpha/m * partial_derivative_wrt_J\n",
    "        params_store[:, iteration + 1] = w - ((alpha/num_samples) * gradient)\n",
    "        \n",
    "        iteration += 1\n",
    "    \n",
    "    return params, cost, params_store"
   ]
  },
  {
   "cell_type": "code",
   "execution_count": 14,
   "metadata": {
    "id": "qbjhyZ71kq_I"
   },
   "outputs": [
    {
     "name": "stdout",
     "output_type": "stream",
     "text": [
      "[21.0 2.0 64.0 8.0 13.0 61.0 69.0 9.0 90.0 78.0 26.0 53.0 17.0 14.0 98.0\n",
      " 91.0 99.0 11.0 37.0 52.0 83.0 63.0 15.0 27.0 42.0 22.0 87.0 65.0 73.0\n",
      " 56.0 58.0 28.0 36.0 76.0 94.0 18.0 50.0 74.0 19.0 67.0 96.0 75.0 84.0\n",
      " 34.0 44.0 93.0 81.0 62.0 59.0 16.0 55.0 45.0 89.0 32.0 80.0 71.0 10.0\n",
      " 38.0 88.0 4.0 68.0 6.0 95.0 60.0 92.0 77.0 1.0 79.0 41.0 33.0 86.0 47.0\n",
      " 24.0 54.0 82.0 97.0 72.0 25.0 3.0 0.0]\n",
      "--------------------------\n",
      "iteration: 0\n",
      "cost: 14436472.46209437\n",
      "--------------------------\n",
      "iteration: 1\n",
      "cost: 5891764.571014683\n",
      "--------------------------\n",
      "iteration: 2\n",
      "cost: 2408429.2395159714\n",
      "--------------------------\n",
      "iteration: 3\n",
      "cost: 988412.8091769299\n",
      "--------------------------\n",
      "iteration: 4\n",
      "cost: 409528.8656848903\n",
      "--------------------------\n",
      "iteration: 5\n",
      "cost: 173540.95248590072\n",
      "--------------------------\n",
      "iteration: 6\n",
      "cost: 77338.01898049652\n",
      "--------------------------\n",
      "iteration: 7\n",
      "cost: 38119.8237713453\n",
      "--------------------------\n",
      "iteration: 8\n",
      "cost: 22132.02431912211\n",
      "--------------------------\n",
      "iteration: 9\n",
      "cost: 15614.326921364347\n",
      "--------------------------\n",
      "iteration: 10\n",
      "cost: 12957.210890254035\n",
      "--------------------------\n",
      "iteration: 11\n",
      "cost: 11873.899284291077\n",
      "--------------------------\n",
      "iteration: 12\n",
      "cost: 11432.164722349378\n",
      "--------------------------\n",
      "iteration: 13\n",
      "cost: 11251.975433795607\n",
      "--------------------------\n",
      "iteration: 14\n",
      "cost: 11178.407684769525\n",
      "--------------------------\n",
      "iteration: 15\n",
      "cost: 11148.305273163942\n",
      "--------------------------\n",
      "iteration: 16\n",
      "cost: 11135.921944578433\n",
      "--------------------------\n",
      "iteration: 17\n",
      "cost: 11130.761982146814\n",
      "--------------------------\n",
      "iteration: 18\n",
      "cost: 11128.546702421514\n",
      "--------------------------\n",
      "iteration: 19\n",
      "cost: 11127.531857507933\n"
     ]
    }
   ],
   "source": [
    "# Training the model\n",
    "from sklearn.model_selection import train_test_split\n",
    "x_train, x_test, y_train, y_test = train_test_split(input_var, output_var, test_size=0.20)\n",
    "\n",
    "params_0 = np.array([20.0, 80.0])\n",
    "alpha_batch = 1e-4\n",
    "max_iter = 20\n",
    "params_hat_batch, cost_batch, params_store_batch =\\\n",
    "   linear_regression_using_batch_gradient_descent(x_train, y_train, params_0, alpha_batch, max_iter)"
   ]
  },
  {
   "cell_type": "markdown",
   "metadata": {},
   "source": [
    "### Stochastic Gradient Descent from scratch."
   ]
  },
  {
   "cell_type": "markdown",
   "metadata": {
    "id": "lEIJL-WGkq_I"
   },
   "source": [
    "### Stochastic Gradient Descent\n",
    "Algorithm can be given as follows:\n",
    "```shuffle(x, y)\n",
    "for i in 0 -> m:\n",
    "    theta += (alpha / m) * (y[i] - h(x[i])) * x_bar  \n",
    "```"
   ]
  },
  {
   "cell_type": "code",
   "execution_count": 79,
   "metadata": {
    "id": "Gx9LN0wQkq_I"
   },
   "outputs": [],
   "source": [
    "def lin_reg_stoch_gradient_descent(ip, op, params, alpha):\n",
    "    \"\"\"\n",
    "    Compute the params for linear regression using stochastic gradient descent\n",
    "    ip: input variables\n",
    "    op: output variables\n",
    "    params: corresponding parameters\n",
    "    alpha: learning rate\n",
    "    Returns parameters, cost, params_store\n",
    "    \"\"\"\n",
    "    max_iter = 20\n",
    "    stochastic_batch_size = 3 # will be sampling n random samples, where n = this batch size\n",
    "    \n",
    "    # initialize iteration, number of samples, cost and parameter array\n",
    "    iteration = 0\n",
    "    num_samples = len(ip)\n",
    "    cost = np.zeros(max_iter)\n",
    "    params_store = np.zeros([2, max_iter+1]) # 2d array of w for each iteration\n",
    "    \n",
    "    # set first w\n",
    "    params_store[:, 0] = params\n",
    "    \n",
    "    # Compute the cost and store the params for the corresponding cost\n",
    "    while iteration < max_iter:\n",
    "        cost[iteration] = compute_cost(ip, op, params_store[:, iteration])\n",
    "        w = params_store[:, iteration]\n",
    "        \n",
    "        print('--------------------------')\n",
    "        print(f'iteration: {iteration}')\n",
    "        print(f'cost: {cost[iteration]}')\n",
    "        \n",
    "        gradient = 0\n",
    "    \n",
    "        # Apply stochastic gradient descent\n",
    "        for m in range(stochastic_batch_size):\n",
    "            # stochastic random index\n",
    "            i = random.randint(0, num_samples-1)\n",
    "            \n",
    "            y = op[i]\n",
    "            x = np.array([1.0, ip[i]])\n",
    "            y_hat = np.dot(w, x)\n",
    "            gradient += (y_hat - y) * x\n",
    "        \n",
    "        # new gradient W_new = W_old - alpha/m * partial_derivative_wrt_J\n",
    "        params_store[:, iteration + 1] = w - ((alpha/stochastic_batch_size) * gradient)\n",
    "        \n",
    "        iteration += 1\n",
    "            \n",
    "    return params, cost, params_store"
   ]
  },
  {
   "cell_type": "code",
   "execution_count": 80,
   "metadata": {
    "id": "HivE1gVkkq_J"
   },
   "outputs": [
    {
     "name": "stdout",
     "output_type": "stream",
     "text": [
      "--------------------------\n",
      "iteration: 0\n",
      "cost: 13417309.877216246\n",
      "--------------------------\n",
      "iteration: 1\n",
      "cost: 6393567.998690785\n",
      "--------------------------\n",
      "iteration: 2\n",
      "cost: 1841993.1122411662\n",
      "--------------------------\n",
      "iteration: 3\n",
      "cost: 974582.2844567688\n",
      "--------------------------\n",
      "iteration: 4\n",
      "cost: 892270.4504894136\n",
      "--------------------------\n",
      "iteration: 5\n",
      "cost: 319395.7277869844\n",
      "--------------------------\n",
      "iteration: 6\n",
      "cost: 177371.55217169938\n",
      "--------------------------\n",
      "iteration: 7\n",
      "cost: 98535.40843962124\n",
      "--------------------------\n",
      "iteration: 8\n",
      "cost: 36812.005566847394\n",
      "--------------------------\n",
      "iteration: 9\n",
      "cost: 36468.27370939728\n",
      "--------------------------\n",
      "iteration: 10\n",
      "cost: 23695.51210831536\n",
      "--------------------------\n",
      "iteration: 11\n",
      "cost: 15526.779398488865\n",
      "--------------------------\n",
      "iteration: 12\n",
      "cost: 15513.124591360267\n",
      "--------------------------\n",
      "iteration: 13\n",
      "cost: 16660.20105254811\n",
      "--------------------------\n",
      "iteration: 14\n",
      "cost: 16388.476529683416\n",
      "--------------------------\n",
      "iteration: 15\n",
      "cost: 14072.978108111438\n",
      "--------------------------\n",
      "iteration: 16\n",
      "cost: 13339.528535811103\n",
      "--------------------------\n",
      "iteration: 17\n",
      "cost: 15052.685791922555\n",
      "--------------------------\n",
      "iteration: 18\n",
      "cost: 15335.36851840119\n",
      "--------------------------\n",
      "iteration: 19\n",
      "cost: 14735.548440907423\n"
     ]
    }
   ],
   "source": [
    "# Train the model\n",
    "alpha = 1e-4\n",
    "params_0 = np.array([20.0, 80.0])\n",
    "params_hat, cost, params_store =\\\n",
    "lin_reg_stoch_gradient_descent(x_train, y_train, params_0, alpha)"
   ]
  },
  {
   "cell_type": "markdown",
   "metadata": {},
   "source": [
    "### Calculating Root Mean Square error in batch gradient descent algorithm and stochastic gradient descent algorithm"
   ]
  },
  {
   "cell_type": "code",
   "execution_count": 81,
   "metadata": {},
   "outputs": [
    {
     "name": "stdout",
     "output_type": "stream",
     "text": [
      "BGD RMSE: 113.53857687922938\n",
      "SGD RMSE: 121.39006730745075\n"
     ]
    }
   ],
   "source": [
    "# Calculate Root Mean Square error in batch gradient descent algorithm and stochastic gradient descent algorithm\n",
    "print(f'BGD RMSE: {math.sqrt(cost_batch[-1])}')\n",
    "print(f'SGD RMSE: {math.sqrt(cost[-1])}')"
   ]
  },
  {
   "cell_type": "code",
   "execution_count": 82,
   "metadata": {
    "colab": {
     "base_uri": "https://localhost:8080/",
     "height": 51
    },
    "executionInfo": {
     "elapsed": 152,
     "status": "ok",
     "timestamp": 1630902274461,
     "user": {
      "displayName": "Praguna Singh",
      "photoUrl": "https://lh3.googleusercontent.com/a-/AOh14GheDZgFohozb1D4tdpw7nC3gfdiGtrrgzrUZufzqA=s64",
      "userId": "14769753629771591406"
     },
     "user_tz": 240
    },
    "id": "930loAL6kq_L",
    "outputId": "e807576e-9852-4857-9a29-d367f2e0b26b"
   },
   "outputs": [
    {
     "data": {
      "image/png": "[encoded data removed]",
      "text/plain": [
       "<Figure size 432x288 with 1 Axes>"
      ]
     },
     "metadata": {
      "needs_background": "light"
     },
     "output_type": "display_data"
    },
    {
     "name": "stdout",
     "output_type": "stream",
     "text": [
      "min cost with BGD: 12891.00843976068\n",
      "min cost with SGD: 13339.528535811103\n"
     ]
    }
   ],
   "source": [
    "plt.figure()\n",
    "plt.plot(np.arange(max_iter), cost_batch, 'r', label='batch')\n",
    "plt.plot(np.arange(len(cost)), cost, 'g', label='stochastic')\n",
    "plt.xlabel('iteration')\n",
    "plt.ylabel('normalized cost')\n",
    "plt.legend()\n",
    "plt.show()\n",
    "print(f'min cost with BGD: {np.min(cost_batch)}')\n",
    "print(f'min cost with SGD: {np.min(cost)}')"
   ]
  },
  {
   "cell_type": "markdown",
   "metadata": {
    "id": "wgbTux39kq_N"
   },
   "source": [
    "# Conclusion\n",
    "It appears that Batch Gradient descent works better for this dataset based on 100 iterations. Other considerations is that the dataset is very small so Batch gradient descent time bottleneck would not be apparent with this dataset but nevertheless scale poorly on large datasets.\n",
    "\n",
    "### Few Iterations\n",
    "We had just 100 which lessens the chance that we would get an ideal gradient using SGD since we choose at random on each step.\n",
    "\n",
    "BGD excels at 100 iterations because the computational time while scaling poorly, is not apparent with this iteration size\n",
    "\n",
    "### Convergence\n",
    "because BGD uses all data to choose the improved weight function, it converged much more quickly than SGD in this case"
   ]
  }
 ],
 "metadata": {
  "colab": {
   "collapsed_sections": [],
   "name": "assignment-1-solution.ipynb",
   "provenance": []
  },
  "kernelspec": {
   "display_name": "Python 3 (ipykernel)",
   "language": "python",
   "name": "python3"
  },
  "language_info": {
   "codemirror_mode": {
    "name": "ipython",
    "version": 3
   },
   "file_extension": ".py",
   "mimetype": "text/x-python",
   "name": "python",
   "nbconvert_exporter": "python",
   "pygments_lexer": "ipython3",
   "version": "3.9.12"
  }
 },
 "nbformat": 4,
 "nbformat_minor": 1
}
